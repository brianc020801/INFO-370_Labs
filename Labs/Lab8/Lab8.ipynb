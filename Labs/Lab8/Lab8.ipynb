{
 "cells": [
  {
   "cell_type": "code",
   "execution_count": 1,
   "id": "97cc2b6f-155c-43bd-a713-3c584b622f7d",
   "metadata": {},
   "outputs": [],
   "source": [
    "import numpy as np\n",
    "import pandas as pd\n",
    "from sklearn.model_selection import train_test_split\n",
    "from sklearn.linear_model import LogisticRegression\n",
    "import matplotlib.pyplot as plt"
   ]
  },
  {
   "cell_type": "markdown",
   "id": "71ccaddc-add6-49a9-8f77-d82cadea6c5a",
   "metadata": {},
   "source": [
    "## 1. Preparation"
   ]
  },
  {
   "cell_type": "markdown",
   "id": "ab902f06-aeeb-4dd4-b0ca-311d5f053156",
   "metadata": {},
   "source": [
    "#### 1.1.Load data airbnb-bangkok-score.csv.bz2."
   ]
  },
  {
   "cell_type": "code",
   "execution_count": 2,
   "id": "911b6ae7-19d0-47bb-a570-e2512d74bea0",
   "metadata": {},
   "outputs": [],
   "source": [
    "airbnb = pd.read_csv(\"airbnb-bangkok-score.csv.bz2\", sep=\"\\t\")"
   ]
  },
  {
   "cell_type": "markdown",
   "id": "6efcd510-c674-49fe-a33b-00c33fbc1ed4",
   "metadata": {},
   "source": [
    "#### 1.2. A quick descriptive analysis: how many cases do we have? How many variables do we have? What are the variable names? What are the data types?"
   ]
  },
  {
   "cell_type": "code",
   "execution_count": 3,
   "id": "e257e661-899a-4661-8735-0bbc6cedb1f5",
   "metadata": {},
   "outputs": [
    {
     "name": "stdout",
     "output_type": "stream",
     "text": [
      "(2000, 41)\n",
      "price                             float64\n",
      "minimum_nights                      int64\n",
      "maximum_nights                      int64\n",
      "instant_bookable                   object\n",
      "neighbourhood                      object\n",
      "reviews_per_month                 float64\n",
      "calculated_host_listings_count      int64\n",
      "number_of_reviews                   int64\n",
      "x1                                 object\n",
      "x2                                 object\n",
      "x3                                 object\n",
      "x4                                 object\n",
      "x5                                 object\n",
      "x6                                 object\n",
      "x7                                 object\n",
      "x8                                 object\n",
      "x9                                 object\n",
      "x10                                object\n",
      "x11                                object\n",
      "x12                                object\n",
      "x13                                object\n",
      "x14                                object\n",
      "x15                                object\n",
      "x16                                object\n",
      "x17                                object\n",
      "x18                                object\n",
      "x19                                object\n",
      "x20                                object\n",
      "x21                                object\n",
      "x22                                object\n",
      "x23                                object\n",
      "x24                                object\n",
      "x25                                object\n",
      "x26                                object\n",
      "x27                                object\n",
      "x28                                object\n",
      "x29                                object\n",
      "x30                                object\n",
      "highScore                            bool\n",
      "firstReview                         int64\n",
      "lastReview                          int64\n",
      "dtype: object\n"
     ]
    }
   ],
   "source": [
    "print(airbnb.shape)\n",
    "print(airbnb.dtypes)"
   ]
  },
  {
   "cell_type": "markdown",
   "id": "d5cff680-ba2d-48b0-8ecf-d18e424196c6",
   "metadata": {},
   "source": [
    "There are 2000 cases and 41 variables, the variable names are listed and so are their data types."
   ]
  },
  {
   "cell_type": "markdown",
   "id": "cd18a774-9a14-4083-847a-e7070e55b53d",
   "metadata": {},
   "source": [
    "#### 1.3. Your outcome variable is highScore. Let’s call it y for consistency. Check what kind of values does it contain."
   ]
  },
  {
   "cell_type": "code",
   "execution_count": 4,
   "id": "f594ccbf-e6d8-48d9-a788-ed30b2788a46",
   "metadata": {},
   "outputs": [],
   "source": [
    "y = airbnb.highScore"
   ]
  },
  {
   "cell_type": "markdown",
   "id": "39fe7c72-0f50-4d37-9a5e-60d904fee59d",
   "metadata": {},
   "source": [
    "highScore contains a boolean value."
   ]
  },
  {
   "cell_type": "markdown",
   "id": "63842a9b-846f-4865-b8d0-a9a7903dca8d",
   "metadata": {},
   "source": [
    "#### 1.4. Create “full” design matrices X for training and validation, those should contain all variables there, except “highScore”."
   ]
  },
  {
   "cell_type": "code",
   "execution_count": 5,
   "id": "9f48f75f-c62f-42de-8d43-18a7c3ebd462",
   "metadata": {},
   "outputs": [],
   "source": [
    "X = airbnb.loc[:, airbnb.columns != \"highScore\"]"
   ]
  },
  {
   "cell_type": "markdown",
   "id": "f21545c5-e627-4ad3-960c-c2ab3cb95fc5",
   "metadata": {},
   "source": [
    "#### 1.5. Why do we want to remove highScore from the design matrix?"
   ]
  },
  {
   "cell_type": "markdown",
   "id": "a824d99c-28fa-42c5-bbf5-09dcb49b9c3b",
   "metadata": {},
   "source": [
    "Because highScore is the outcome variable so we don't want to include it in the design matrix, which is used for training."
   ]
  },
  {
   "cell_type": "markdown",
   "id": "81e2bc6f-c6c2-4b66-b3de-91dace79661e",
   "metadata": {},
   "source": [
    "## 2. Train and validate"
   ]
  },
  {
   "cell_type": "markdown",
   "id": "dfca38c1-abaf-47d7-b4e7-78e7b45d0d07",
   "metadata": {},
   "source": [
    "#### 2.1.a. Create a smaller design matrix Xj that only contains the first j columns. (See above.)"
   ]
  },
  {
   "cell_type": "markdown",
   "id": "a700f904-e124-43f4-a29a-0603f9ef8fcc",
   "metadata": {},
   "source": [
    "#### 2.1.b. Convert this matrix to dummies (use pd.get dummies). How many columns are now in your “dummy” design matrix Xd?"
   ]
  },
  {
   "cell_type": "markdown",
   "id": "e6679d17-a6ee-4bf4-81ce-071924048227",
   "metadata": {},
   "source": [
    "#### 2.1.c. Split the dummy-matrix into training and validation parts. Let’s make these chunks equally large here, you can do this along these lines:"
   ]
  },
  {
   "cell_type": "markdown",
   "id": "8d1c9860-1841-471a-a6c2-c682475d8f0f",
   "metadata": {},
   "source": [
    "#### 2.1.d. Fit the logistic regression on the training chunk. Note: if you get convergence warnings then you can increase the max iterations like"
   ]
  },
  {
   "cell_type": "code",
   "execution_count": 6,
   "id": "b1118d2d-be7c-4d53-b6e0-48d97091d05d",
   "metadata": {},
   "outputs": [
    {
     "name": "stdout",
     "output_type": "stream",
     "text": [
      "Num Cols: 1\n",
      "Num Cols: 2\n",
      "Num Cols: 3\n",
      "Num Cols: 5\n",
      "Num Cols: 229\n",
      "Num Cols: 230\n",
      "Num Cols: 231\n",
      "Num Cols: 232\n",
      "Num Cols: 258\n",
      "Num Cols: 284\n",
      "Num Cols: 310\n",
      "Num Cols: 336\n",
      "Num Cols: 362\n",
      "Num Cols: 388\n",
      "Num Cols: 414\n",
      "Num Cols: 440\n",
      "Num Cols: 466\n",
      "Num Cols: 492\n",
      "Num Cols: 518\n",
      "Num Cols: 544\n",
      "Num Cols: 570\n",
      "Num Cols: 596\n",
      "Num Cols: 622\n",
      "Num Cols: 648\n",
      "Num Cols: 674\n",
      "Num Cols: 700\n",
      "Num Cols: 726\n",
      "Num Cols: 752\n",
      "Num Cols: 778\n",
      "Num Cols: 804\n",
      "Num Cols: 830\n",
      "Num Cols: 856\n",
      "Num Cols: 882\n",
      "Num Cols: 908\n",
      "Num Cols: 934\n",
      "Num Cols: 960\n",
      "Num Cols: 986\n",
      "Num Cols: 1012\n",
      "Num Cols: 1013\n",
      "Num Cols: 1014\n"
     ]
    }
   ],
   "source": [
    "training_acc = []\n",
    "validation_acc = []\n",
    "for j in range(1, X.shape[1] + 1):\n",
    "    Xj = X.iloc[:,:j]\n",
    "    Xd = pd.get_dummies(Xj)\n",
    "    print(f\"Num Cols: {Xd.shape[1]}\")\n",
    "    Xt, Xv, yt, yv = train_test_split(Xd, airbnb.highScore, test_size=0.5)\n",
    "    m = LogisticRegression(max_iter = 5000).fit(Xt, yt)\n",
    "    training_acc.append(m.score(Xt, yt)) # training accuracy\n",
    "    validation_acc.append(m.score(Xv, yv)) # validation accuracy"
   ]
  },
  {
   "cell_type": "markdown",
   "id": "4b53275f-5d55-4f2c-ba82-d5373e5f4ad1",
   "metadata": {},
   "source": [
    "#### 2.2. Plot your results: accuracy versus number of columns."
   ]
  },
  {
   "cell_type": "code",
   "execution_count": 9,
   "id": "358d7213-d163-4db8-9605-86dd619d3f45",
   "metadata": {},
   "outputs": [
    {
     "name": "stdout",
     "output_type": "stream",
     "text": [
      "40\n"
     ]
    },
    {
     "data": {
      "image/png": "[encoded data removed]",
      "text/plain": [
       "<Figure size 432x288 with 1 Axes>"
      ]
     },
     "metadata": {
      "needs_background": "light"
     },
     "output_type": "display_data"
    },
    {
     "data": {
      "image/png": "[encoded data removed]",
      "text/plain": [
       "<Figure size 432x288 with 1 Axes>"
      ]
     },
     "metadata": {
      "needs_background": "light"
     },
     "output_type": "display_data"
    }
   ],
   "source": [
    "print(len(validation_acc))\n",
    "num_col = np.arange(1, 41)\n",
    "plt.scatter(num_col, training_acc)\n",
    "plt.xlabel(\"Number of Columns\")\n",
    "plt.ylabel(\"Training Accuracy\")\n",
    "plt.title(label=\"Number Columns vs Training Accuracy\")\n",
    "plt.show()\n",
    "plt.scatter(num_col, validation_acc)\n",
    "plt.xlabel(\"Number of Columns\")\n",
    "plt.ylabel(\"Validation Accuracy\")\n",
    "plt.title(label=\"Number Columns vs Validation Accuracy\")\n",
    "plt.show()"
   ]
  },
  {
   "cell_type": "markdown",
   "id": "818f0704-000c-44e7-9c08-c242498c7a37",
   "metadata": {},
   "source": [
    "#### 2.3. Which number of columns will give you the best results? (Based on validation data.)"
   ]
  },
  {
   "cell_type": "code",
   "execution_count": 11,
   "id": "9ff29436-5981-4860-83e3-ed8698c7de88",
   "metadata": {},
   "outputs": [
    {
     "name": "stdout",
     "output_type": "stream",
     "text": [
      "10\n"
     ]
    }
   ],
   "source": [
    "print(np.argmax(validation_acc))"
   ]
  },
  {
   "cell_type": "markdown",
   "id": "6473054c-0cdd-4751-a4ac-930cf5b00814",
   "metadata": {},
   "source": [
    "According to the validation data, 10 columns give the best results"
   ]
  },
  {
   "cell_type": "markdown",
   "id": "ee44f990-ab70-4ef8-8be5-74b6f9edd0c9",
   "metadata": {},
   "source": [
    "I think discord says we only have to do till section 2."
   ]
  },
  {
   "cell_type": "code",
   "execution_count": null,
   "id": "6ffae820-1e0a-4a81-ac40-622e9ff881ab",
   "metadata": {},
   "outputs": [],
   "source": []
  }
 ],
 "metadata": {
  "kernelspec": {
   "display_name": "Python 3 (ipykernel)",
   "language": "python",
   "name": "python3"
  },
  "language_info": {
   "codemirror_mode": {
    "name": "ipython",
    "version": 3
   },
   "file_extension": ".py",
   "mimetype": "text/x-python",
   "name": "python",
   "nbconvert_exporter": "python",
   "pygments_lexer": "ipython3",
   "version": "3.9.7"
  }
 },
 "nbformat": 4,
 "nbformat_minor": 5
}
