{
 "cells": [
  {
   "cell_type": "code",
   "execution_count": 1,
   "id": "7a8bfb2b-8553-4ece-820f-358a43d85843",
   "metadata": {},
   "outputs": [],
   "source": [
    "import numpy as np\n",
    "import pandas as pd\n",
    "import matplotlib.pyplot as plt"
   ]
  },
  {
   "cell_type": "markdown",
   "id": "260143cb-49b2-4af8-a870-81f3e967750b",
   "metadata": {},
   "source": [
    "## 1. Toss two coins"
   ]
  },
  {
   "cell_type": "markdown",
   "id": "13f6a89b-af08-43a4-b704-66ac643e73b2",
   "metadata": {},
   "source": [
    "#### 1.1. Explain which object(s) are you flipping, and if you had two of these or just a single object."
   ]
  },
  {
   "cell_type": "markdown",
   "id": "9b18ced3-fa80-4fb9-89f4-dbd98c0532dd",
   "metadata": {},
   "source": [
    "I am tossing two quarters"
   ]
  },
  {
   "cell_type": "markdown",
   "id": "7123940b-d88c-4951-b955-7531c229e683",
   "metadata": {},
   "source": [
    "#### 1.2. Toss the coins (or whatever object you chose). For each toss, add a row in the table about the number of heads in each trial."
   ]
  },
  {
   "cell_type": "markdown",
   "id": "81405763-dbc1-400a-960b-a992890b7932",
   "metadata": {},
   "source": [
    "| Trial | Heads |\n",
    "| :----: | :--------: |\n",
    "| 1 | 0 |\n",
    "| 2 | 1 |\n",
    "| 3 | 1 |\n",
    "| 4 | 0 |\n",
    "| 5 | 0 |\n",
    "| 6 | 2 |\n",
    "| 7 | 1 |\n",
    "| 8 | 2 |\n",
    "| 9 | 0 |\n",
    "| 10 | 0 |\n",
    "| 11 | 0 |\n",
    "| 12 | 1 |\n",
    "| 13 | 1 |\n",
    "| 14 | 1 |\n",
    "| 15 | 1 |\n",
    "| 16 | 1 |\n",
    "| 17 | 2 |\n",
    "| 18 | 0 |\n",
    "| 19 | 1 |\n",
    "| 20 | 2 |"
   ]
  },
  {
   "cell_type": "markdown",
   "id": "6bac6d77-8947-4017-a228-f0c08475ca0f",
   "metadata": {},
   "source": [
    "#### 1.3. Show a summary of your results: how many times did you get 0 heads, 1 hears, 2 heads."
   ]
  },
  {
   "cell_type": "markdown",
   "id": "0c8d19b7-94ba-4826-8039-f7703cbeeb70",
   "metadata": {},
   "source": [
    "| Results | Time |\n",
    "| :----: | :--------: |\n",
    "| 0 heads | 7 |\n",
    "| 1 heads | 9 |\n",
    "| 2 heads | 4 |"
   ]
  },
  {
   "cell_type": "markdown",
   "id": "df45601a-fb05-43d2-a350-9f9b1ddad75e",
   "metadata": {},
   "source": [
    "#### 1.4. Compute the mean of your results (the number of the heads you got)"
   ]
  },
  {
   "cell_type": "code",
   "execution_count": 2,
   "id": "0468f80b-6eaf-4a32-bd15-43acaa4e5a34",
   "metadata": {},
   "outputs": [
    {
     "data": {
      "text/plain": [
       "0.85"
      ]
     },
     "execution_count": 2,
     "metadata": {},
     "output_type": "execute_result"
    }
   ],
   "source": [
    "((7 * 0) + (9 * 1) + (4 * 2)) / 20"
   ]
  },
  {
   "cell_type": "markdown",
   "id": "a100d9f9-14ac-405f-b37c-c94efbfc447f",
   "metadata": {},
   "source": [
    "The mean is 0.85"
   ]
  },
  {
   "cell_type": "markdown",
   "id": "3e6721b6-3f97-4b26-93f7-7f4127593c27",
   "metadata": {},
   "source": [
    "#### 1.5. Compute the median (do not use the “median” function). Explain how do you do it."
   ]
  },
  {
   "cell_type": "markdown",
   "id": "d8663a5c-3c35-4dfe-b8cf-9e02c8958431",
   "metadata": {},
   "source": [
    "0, 0, 0, 0, 0, 0, 0, 1, 1, 1, 1, 1, 1, 1, 1, 1, 2, 2, 2, 2"
   ]
  },
  {
   "cell_type": "markdown",
   "id": "f0cb5e63-db87-4acf-be70-7d3c31640a9a",
   "metadata": {},
   "source": [
    "The median is between the 10th & 11th value, which means I take the average of the 10th value and 11th value. This comes out to be (1 + 1)/2, which is 1"
   ]
  },
  {
   "cell_type": "markdown",
   "id": "8460c388-cc41-464f-b6ce-d6622f71fa7d",
   "metadata": {},
   "source": [
    "#### 1.6. Compute the variance of your results (the number of heads in your individual trials)."
   ]
  },
  {
   "cell_type": "markdown",
   "id": "c1d601b6-28d4-49d3-a9b6-ca1c177dd1ff",
   "metadata": {},
   "source": [
    "variance is var X = mean(X^2) - mean(X)^2  \n",
    "mean(X^2) = ((7 * 0) + (9 * 1) + (4 * 4)) / 20 = 1.25  \n",
    "mean(X)^2 = 0.85^2 = 0.7225  \n",
    "Variance = 1.25 - 0.7225 = 0.5275  "
   ]
  },
  {
   "cell_type": "markdown",
   "id": "ce330335-1eb9-4d52-8189-95e51e4bcf43",
   "metadata": {},
   "source": [
    "#### 1.7. Compute standard deviation of your results"
   ]
  },
  {
   "cell_type": "markdown",
   "id": "23f94dea-3925-4e18-8838-9596e8a1ea2c",
   "metadata": {},
   "source": [
    "Standard deviation is sqrt(variance)  \n",
    "Which is sqrt(0.5275) = 0.7263"
   ]
  },
  {
   "cell_type": "markdown",
   "id": "6c69017c-8aa7-44a9-849b-62f8ae44c8a3",
   "metadata": {},
   "source": [
    "#### 1.8. Plot (or manually sketch) a histogram of your results."
   ]
  },
  {
   "cell_type": "code",
   "execution_count": 3,
   "id": "5aab3bbe-f685-4882-885f-9648766e5fc0",
   "metadata": {},
   "outputs": [
    {
     "data": {
      "image/png": "[encoded data removed]",
      "text/plain": [
       "<Figure size 432x288 with 1 Axes>"
      ]
     },
     "metadata": {
      "needs_background": "light"
     },
     "output_type": "display_data"
    }
   ],
   "source": [
    "results = [0, 0, 0, 0, 0, 0, 0, 1, 1, 1, 1, 1, 1, 1, 1, 1, 2, 2, 2, 2]\n",
    "hist = plt.hist(results, bins = 3, edgecolor=\"w\")"
   ]
  },
  {
   "cell_type": "markdown",
   "id": "ede04659-0e78-439f-854f-0136ff7a58c5",
   "metadata": {},
   "source": [
    "#### 1.9. Does you data contain outliers? Can it contain outliers?"
   ]
  },
  {
   "cell_type": "markdown",
   "id": "0fbacbf0-d577-4864-870c-116e1528f19a",
   "metadata": {},
   "source": [
    "The data doesn't contain outliers, and it can't contain outliers because the result data values are connected and in a sequence of 1,2,3 without any chance of appearing for example: 10 heads for 1 toss."
   ]
  },
  {
   "cell_type": "markdown",
   "id": "d7679410-92c6-4e70-ad12-48ec9904abc6",
   "metadata": {},
   "source": [
    "#### 1.10. Compute 20th percentile of your results"
   ]
  },
  {
   "cell_type": "markdown",
   "id": "99b70e35-6d2e-42fe-83d9-46c7533f69d7",
   "metadata": {},
   "source": [
    "20th percentile = 0.2 * 20 = 4, which is 0. This is done ordering the numbers from smallest to largest then by multiplying 20% by the number of observations to get the index and then selecting the number that corresponds with the index."
   ]
  },
  {
   "cell_type": "markdown",
   "id": "0430ef1d-29c5-49c7-9708-8ffb8283a55a",
   "metadata": {},
   "source": [
    "#### 1.11. Compute 80th percentile of the results."
   ]
  },
  {
   "cell_type": "markdown",
   "id": "d9bcc67f-9f98-4faa-8a51-5c4ebabea0c9",
   "metadata": {},
   "source": [
    "20th percentile = 0.8 * 20 = 16, which is 1. This is done ordering the numbers from smallest to largest then by multiplying 80% by the number of observations to get the index and then selecting the number that corresponds with the index."
   ]
  },
  {
   "cell_type": "markdown",
   "id": "0c32973f-6597-43b4-a7ea-e2725c6213b0",
   "metadata": {},
   "source": [
    "The QSR is calulated by taking the sum of the top 20% which would be index 17-20, and then dividing it by the sum of thebottom 20% which is the "
   ]
  }
 ],
 "metadata": {
  "kernelspec": {
   "display_name": "Python 3 (ipykernel)",
   "language": "python",
   "name": "python3"
  },
  "language_info": {
   "codemirror_mode": {
    "name": "ipython",
    "version": 3
   },
   "file_extension": ".py",
   "mimetype": "text/x-python",
   "name": "python",
   "nbconvert_exporter": "python",
   "pygments_lexer": "ipython3",
   "version": "3.9.7"
  }
 },
 "nbformat": 4,
 "nbformat_minor": 5
}
