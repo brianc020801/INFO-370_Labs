{
 "cells": [
  {
   "cell_type": "code",
   "execution_count": null,
   "id": "d8c8aa1e-eaa1-4508-ac1c-4f846207391e",
   "metadata": {},
   "outputs": [],
   "source": [
    "import numpy as np\n",
    "import pandas as pd\n",
    "import statsmodels.formula.api as smf"
   ]
  },
  {
   "cell_type": "markdown",
   "id": "af7a8b64-5fa9-4871-9f31-c327ff48fe67",
   "metadata": {},
   "source": [
    "## 1. Logistic Regression"
   ]
  },
  {
   "cell_type": "markdown",
   "id": "f00d3de2-f10a-4e24-86d7-f1c1e23e5e09",
   "metadata": {},
   "source": [
    "#### 1.1. load file titanic.csv, and do quick sanity checks."
   ]
  },
  {
   "cell_type": "code",
   "execution_count": null,
   "id": "a29ab862-5a66-4c1a-814a-d8e4722131d0",
   "metadata": {},
   "outputs": [],
   "source": [
    "titanic = pd.read_csv('titanic.csv.bz2', sep=\",\")\n",
    "print(f\"Rows, Columns: {titanic.shape}\\n\")\n",
    "print(\"Number of NaN values in each column\")\n",
    "print(titanic.isna().sum())\n",
    "print(\"\\nSample\")\n",
    "print(titanic.sample(3))"
   ]
  },
  {
   "cell_type": "markdown",
   "id": "389dc9aa-6e74-4916-a5e2-2fa74a955fcb",
   "metadata": {},
   "source": [
    "Data looks fine, age as 263 missing cabin has 101 boat has 823 body has 1188 and home.dest has 564"
   ]
  },
  {
   "cell_type": "markdown",
   "id": "c8204705-65dc-4733-ba60-3cebe761cdbd",
   "metadata": {},
   "source": [
    "#### 1.2. Based on the survivors’ accounts, described above, which variables do you think are the most important ones to describe titanic survival?"
   ]
  },
  {
   "cell_type": "markdown",
   "id": "8c8cb87d-5c6d-4feb-8627-45d912e0773b",
   "metadata": {},
   "source": [
    "It would be class, sex, and age, because women and children of the 1st and 2nd class got to get on the lifeboat first."
   ]
  },
  {
   "cell_type": "markdown",
   "id": "5b22c31f-6335-4092-b8ce-af90c96b2b63",
   "metadata": {},
   "source": [
    "#### 1.3. Create a new dummy variable child, that is 1 if the passenger was youger than 14 and 0 otherwise."
   ]
  },
  {
   "cell_type": "code",
   "execution_count": null,
   "id": "ffac7b13-5da5-4ee5-b9ee-fe9ba44ebde7",
   "metadata": {},
   "outputs": [],
   "source": [
    "child = np.where(titanic.age < 14, 1, 0)\n",
    "titanic['child']=child"
   ]
  },
  {
   "cell_type": "markdown",
   "id": "6b0671b6-0ccb-4ac7-9195-27273e2ecff6",
   "metadata": {},
   "source": [
    "#### 1.4. Estimate a multiple logistic regression model where you explain survival by these variables."
   ]
  },
  {
   "cell_type": "code",
   "execution_count": null,
   "id": "7258564e-b214-441e-8328-7f865d601b86",
   "metadata": {},
   "outputs": [],
   "source": [
    "m = smf.ols(\"survived ~ C(pclass) + C(sex) + C(child)\", data = titanic).fit()\n",
    "m.summary()"
   ]
  },
  {
   "cell_type": "markdown",
   "id": "b8b32934-f844-4df9-9f04-a23dbafa936e",
   "metadata": {},
   "source": [
    "#### 1.5. Interpret the results. Did men or women, old or young have larger chances to survive?"
   ]
  },
  {
   "cell_type": "markdown",
   "id": "3a6b54c6-c56c-4c6b-bff1-3bf0907cb726",
   "metadata": {},
   "source": [
    "Based on the results, those who were male and not in the first class has the least chance of survival. While female children in the first class has the highest chance of survival."
   ]
  },
  {
   "cell_type": "markdown",
   "id": "1be9d1ad-d450-4c20-a2b3-cca567604aa7",
   "metadata": {},
   "source": [
    "#### 1.6. 6. Based on the results above, explain what can you tell about the last hours on Titanic. Are the survivors’ accounts broadly accurate? Did the order break down? Can you find anything else interesting?"
   ]
  },
  {
   "cell_type": "markdown",
   "id": "976877c8-0841-40df-932c-8a19f66aeebd",
   "metadata": {},
   "source": [
    "The order didn't break down, mostly women and children and first class got on the life boats which means the accounts were accurate. Interesting is a female children in the first class has over a 100% chance of making it on the life boat."
   ]
  }
 ],
 "metadata": {
  "kernelspec": {
   "display_name": "Python 3 (ipykernel)",
   "language": "python",
   "name": "python3"
  },
  "language_info": {
   "codemirror_mode": {
    "name": "ipython",
    "version": 3
   },
   "file_extension": ".py",
   "mimetype": "text/x-python",
   "name": "python",
   "nbconvert_exporter": "python",
   "pygments_lexer": "ipython3",
   "version": "3.9.7"
  }
 },
 "nbformat": 4,
 "nbformat_minor": 5
}
