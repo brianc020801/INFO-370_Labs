{
 "cells": [
  {
   "cell_type": "code",
   "execution_count": 1,
   "id": "1c5e1701-4a8a-4035-a9bb-2cde333c5657",
   "metadata": {},
   "outputs": [],
   "source": [
    "import numpy as np\n",
    "import pandas as pd"
   ]
  },
  {
   "cell_type": "markdown",
   "id": "36fb4570-b9fe-4b5d-b008-ab268d38b8f6",
   "metadata": {},
   "source": [
    "#### 1. Download the file covid-scandinavia.csv.bz2 from canvas and load it into a pandas dataframe."
   ]
  },
  {
   "cell_type": "code",
   "execution_count": 2,
   "id": "bdaccb36-64b4-4fd0-abda-50aba4f03010",
   "metadata": {},
   "outputs": [
    {
     "name": "stdout",
     "output_type": "stream",
     "text": [
      "     code2  country  state        date       type    count    lockdown  \\\n",
      "0       DK  Denmark    NaN  2020-01-22  Confirmed        0  2020-03-11   \n",
      "1       DK  Denmark    NaN  2020-01-22     Deaths        0  2020-03-11   \n",
      "2       DK  Denmark    NaN  2020-01-23  Confirmed        0  2020-03-11   \n",
      "3       DK  Denmark    NaN  2020-01-23     Deaths        0  2020-03-11   \n",
      "4       DK  Denmark    NaN  2020-01-24  Confirmed        0  2020-03-11   \n",
      "...    ...      ...    ...         ...        ...      ...         ...   \n",
      "6523    SE   Sweden    NaN  2022-04-14     Deaths    18605         NaN   \n",
      "6524    SE   Sweden    NaN  2022-04-15  Confirmed  2495996         NaN   \n",
      "6525    SE   Sweden    NaN  2022-04-15     Deaths    18605         NaN   \n",
      "6526    SE   Sweden    NaN  2022-04-16  Confirmed  2495996         NaN   \n",
      "6527    SE   Sweden    NaN  2022-04-16     Deaths    18605         NaN   \n",
      "\n",
      "      population   countPC  growth  growthPC  \n",
      "0        5837213  0.000000     NaN       NaN  \n",
      "1        5837213  0.000000     NaN       NaN  \n",
      "2        5837213  0.000000     0.0   0.00000  \n",
      "3        5837213  0.000000     0.0   0.00000  \n",
      "4        5837213  0.000000     0.0   0.00000  \n",
      "...          ...       ...     ...       ...  \n",
      "6523    10377781  0.001793    99.0   0.00001  \n",
      "6524    10377781  0.240513     0.0   0.00000  \n",
      "6525    10377781  0.001793     0.0   0.00000  \n",
      "6526    10377781  0.240513     0.0   0.00000  \n",
      "6527    10377781  0.001793     0.0   0.00000  \n",
      "\n",
      "[6528 rows x 11 columns]\n"
     ]
    }
   ],
   "source": [
    "covid = pd.read_csv('covid-scandinavia.csv.bz2', sep=\"\\t\")\n",
    "print(covid)"
   ]
  },
  {
   "cell_type": "markdown",
   "id": "3cdcd788-d4ab-4a41-85eb-b4689954c90b",
   "metadata": {},
   "source": [
    "#### 2. It’s time to get to know your data! Report the number of rows and columns in the dataset."
   ]
  },
  {
   "cell_type": "code",
   "execution_count": 3,
   "id": "585cd5b2-4bb1-4c32-b7e2-28b83b10df97",
   "metadata": {},
   "outputs": [
    {
     "name": "stdout",
     "output_type": "stream",
     "text": [
      "(6528, 11)\n"
     ]
    }
   ],
   "source": [
    "print(covid.shape)"
   ]
  },
  {
   "cell_type": "markdown",
   "id": "d110c12e-a4cc-471d-8bd2-46e30218cc94",
   "metadata": {},
   "source": [
    "#### 3. What variables does this dataset have? Report the variable names along with the data type of each variable."
   ]
  },
  {
   "cell_type": "code",
   "execution_count": 4,
   "id": "2c5f834b-17c1-49ab-88bf-8291d3ecc106",
   "metadata": {},
   "outputs": [
    {
     "data": {
      "text/plain": [
       "code2          object\n",
       "country        object\n",
       "state         float64\n",
       "date           object\n",
       "type           object\n",
       "count           int64\n",
       "lockdown       object\n",
       "population      int64\n",
       "countPC       float64\n",
       "growth        float64\n",
       "growthPC      float64\n",
       "dtype: object"
      ]
     },
     "execution_count": 4,
     "metadata": {},
     "output_type": "execute_result"
    }
   ],
   "source": [
    "covid.dtypes"
   ]
  },
  {
   "cell_type": "markdown",
   "id": "1da084af-72c6-4598-aa2a-83a6284a95bc",
   "metadata": {},
   "source": [
    "#### 4. A number of these variables we do not need. Create a new sub-dataframe that contains all observations but only variables country, date, type, count, and population."
   ]
  },
  {
   "cell_type": "code",
   "execution_count": 5,
   "id": "854479a1-9fbd-4207-a5d3-a8d4b2cffa50",
   "metadata": {},
   "outputs": [
    {
     "data": {
      "text/html": [
       "<div>\n",
       "<style scoped>\n",
       "    .dataframe tbody tr th:only-of-type {\n",
       "        vertical-align: middle;\n",
       "    }\n",
       "\n",
       "    .dataframe tbody tr th {\n",
       "        vertical-align: top;\n",
       "    }\n",
       "\n",
       "    .dataframe thead th {\n",
       "        text-align: right;\n",
       "    }\n",
       "</style>\n",
       "<table border=\"1\" class=\"dataframe\">\n",
       "  <thead>\n",
       "    <tr style=\"text-align: right;\">\n",
       "      <th></th>\n",
       "      <th>country</th>\n",
       "      <th>date</th>\n",
       "      <th>type</th>\n",
       "      <th>count</th>\n",
       "      <th>population</th>\n",
       "    </tr>\n",
       "  </thead>\n",
       "  <tbody>\n",
       "    <tr>\n",
       "      <th>0</th>\n",
       "      <td>Denmark</td>\n",
       "      <td>2020-01-22</td>\n",
       "      <td>Confirmed</td>\n",
       "      <td>0</td>\n",
       "      <td>5837213</td>\n",
       "    </tr>\n",
       "    <tr>\n",
       "      <th>1</th>\n",
       "      <td>Denmark</td>\n",
       "      <td>2020-01-22</td>\n",
       "      <td>Deaths</td>\n",
       "      <td>0</td>\n",
       "      <td>5837213</td>\n",
       "    </tr>\n",
       "    <tr>\n",
       "      <th>2</th>\n",
       "      <td>Denmark</td>\n",
       "      <td>2020-01-23</td>\n",
       "      <td>Confirmed</td>\n",
       "      <td>0</td>\n",
       "      <td>5837213</td>\n",
       "    </tr>\n",
       "    <tr>\n",
       "      <th>3</th>\n",
       "      <td>Denmark</td>\n",
       "      <td>2020-01-23</td>\n",
       "      <td>Deaths</td>\n",
       "      <td>0</td>\n",
       "      <td>5837213</td>\n",
       "    </tr>\n",
       "    <tr>\n",
       "      <th>4</th>\n",
       "      <td>Denmark</td>\n",
       "      <td>2020-01-24</td>\n",
       "      <td>Confirmed</td>\n",
       "      <td>0</td>\n",
       "      <td>5837213</td>\n",
       "    </tr>\n",
       "    <tr>\n",
       "      <th>...</th>\n",
       "      <td>...</td>\n",
       "      <td>...</td>\n",
       "      <td>...</td>\n",
       "      <td>...</td>\n",
       "      <td>...</td>\n",
       "    </tr>\n",
       "    <tr>\n",
       "      <th>6523</th>\n",
       "      <td>Sweden</td>\n",
       "      <td>2022-04-14</td>\n",
       "      <td>Deaths</td>\n",
       "      <td>18605</td>\n",
       "      <td>10377781</td>\n",
       "    </tr>\n",
       "    <tr>\n",
       "      <th>6524</th>\n",
       "      <td>Sweden</td>\n",
       "      <td>2022-04-15</td>\n",
       "      <td>Confirmed</td>\n",
       "      <td>2495996</td>\n",
       "      <td>10377781</td>\n",
       "    </tr>\n",
       "    <tr>\n",
       "      <th>6525</th>\n",
       "      <td>Sweden</td>\n",
       "      <td>2022-04-15</td>\n",
       "      <td>Deaths</td>\n",
       "      <td>18605</td>\n",
       "      <td>10377781</td>\n",
       "    </tr>\n",
       "    <tr>\n",
       "      <th>6526</th>\n",
       "      <td>Sweden</td>\n",
       "      <td>2022-04-16</td>\n",
       "      <td>Confirmed</td>\n",
       "      <td>2495996</td>\n",
       "      <td>10377781</td>\n",
       "    </tr>\n",
       "    <tr>\n",
       "      <th>6527</th>\n",
       "      <td>Sweden</td>\n",
       "      <td>2022-04-16</td>\n",
       "      <td>Deaths</td>\n",
       "      <td>18605</td>\n",
       "      <td>10377781</td>\n",
       "    </tr>\n",
       "  </tbody>\n",
       "</table>\n",
       "<p>6528 rows × 5 columns</p>\n",
       "</div>"
      ],
      "text/plain": [
       "      country        date       type    count  population\n",
       "0     Denmark  2020-01-22  Confirmed        0     5837213\n",
       "1     Denmark  2020-01-22     Deaths        0     5837213\n",
       "2     Denmark  2020-01-23  Confirmed        0     5837213\n",
       "3     Denmark  2020-01-23     Deaths        0     5837213\n",
       "4     Denmark  2020-01-24  Confirmed        0     5837213\n",
       "...       ...         ...        ...      ...         ...\n",
       "6523   Sweden  2022-04-14     Deaths    18605    10377781\n",
       "6524   Sweden  2022-04-15  Confirmed  2495996    10377781\n",
       "6525   Sweden  2022-04-15     Deaths    18605    10377781\n",
       "6526   Sweden  2022-04-16  Confirmed  2495996    10377781\n",
       "6527   Sweden  2022-04-16     Deaths    18605    10377781\n",
       "\n",
       "[6528 rows x 5 columns]"
      ]
     },
     "execution_count": 5,
     "metadata": {},
     "output_type": "execute_result"
    }
   ],
   "source": [
    "vars = [\"country\", \"date\", \"type\", \"count\", \"population\"]\n",
    "covidCondensed = covid[vars].copy()\n",
    "covidCondensed"
   ]
  },
  {
   "cell_type": "markdown",
   "id": "b15dca57-d598-4db0-ba4e-8a8b1e21c29b",
   "metadata": {},
   "source": [
    "#### 1. Filter the data frame you created above and keep only the confirmed cases.\n",
    "How many cases do you have in the subset?"
   ]
  },
  {
   "cell_type": "code",
   "execution_count": 6,
   "id": "5387fb2a-c1db-44e8-904e-351b122db1cc",
   "metadata": {},
   "outputs": [
    {
     "name": "stdout",
     "output_type": "stream",
     "text": [
      "      country        date       type    count  population\n",
      "0     Denmark  2020-01-22  Confirmed        0     5837213\n",
      "2     Denmark  2020-01-23  Confirmed        0     5837213\n",
      "4     Denmark  2020-01-24  Confirmed        0     5837213\n",
      "6     Denmark  2020-01-25  Confirmed        0     5837213\n",
      "8     Denmark  2020-01-26  Confirmed        0     5837213\n",
      "...       ...         ...        ...      ...         ...\n",
      "6518   Sweden  2022-04-12  Confirmed  2491980    10377781\n",
      "6520   Sweden  2022-04-13  Confirmed  2491980    10377781\n",
      "6522   Sweden  2022-04-14  Confirmed  2495996    10377781\n",
      "6524   Sweden  2022-04-15  Confirmed  2495996    10377781\n",
      "6526   Sweden  2022-04-16  Confirmed  2495996    10377781\n",
      "\n",
      "[3264 rows x 5 columns]\n"
     ]
    }
   ],
   "source": [
    "confirmed = covidCondensed[covidCondensed.type == \"Confirmed\"].copy()\n",
    "print(confirmed)"
   ]
  },
  {
   "cell_type": "markdown",
   "id": "819502a7-3744-474d-82fe-b4fd74f21594",
   "metadata": {},
   "source": [
    "#### 2. Create a new variable, confirmed cases per capita, by dividing the confirmed cases’ count by population."
   ]
  },
  {
   "cell_type": "code",
   "execution_count": 7,
   "id": "2188c945-a5d8-4373-8ccb-3818ba03d183",
   "metadata": {},
   "outputs": [
    {
     "name": "stdout",
     "output_type": "stream",
     "text": [
      "      country        date       type    count  population  \\\n",
      "0     Denmark  2020-01-22  Confirmed        0     5837213   \n",
      "2     Denmark  2020-01-23  Confirmed        0     5837213   \n",
      "4     Denmark  2020-01-24  Confirmed        0     5837213   \n",
      "6     Denmark  2020-01-25  Confirmed        0     5837213   \n",
      "8     Denmark  2020-01-26  Confirmed        0     5837213   \n",
      "...       ...         ...        ...      ...         ...   \n",
      "6518   Sweden  2022-04-12  Confirmed  2491980    10377781   \n",
      "6520   Sweden  2022-04-13  Confirmed  2491980    10377781   \n",
      "6522   Sweden  2022-04-14  Confirmed  2495996    10377781   \n",
      "6524   Sweden  2022-04-15  Confirmed  2495996    10377781   \n",
      "6526   Sweden  2022-04-16  Confirmed  2495996    10377781   \n",
      "\n",
      "      confirmed cases per capita  \n",
      "0                       0.000000  \n",
      "2                       0.000000  \n",
      "4                       0.000000  \n",
      "6                       0.000000  \n",
      "8                       0.000000  \n",
      "...                          ...  \n",
      "6518                    0.240126  \n",
      "6520                    0.240126  \n",
      "6522                    0.240513  \n",
      "6524                    0.240513  \n",
      "6526                    0.240513  \n",
      "\n",
      "[3264 rows x 6 columns]\n"
     ]
    }
   ],
   "source": [
    "confirmed[\"confirmed cases per capita\"] = confirmed[\"count\"]/confirmed[\"population\"]\n",
    "print(confirmed)"
   ]
  },
  {
   "cell_type": "markdown",
   "id": "59e64fd8-66e6-41cb-acdf-904656cc4086",
   "metadata": {},
   "source": [
    "#### 3. Try to use the variable “count” with dot as data.count/data.population But you may get an assertion error. Can you explain why that happens? And how can you get around of the problem?\n",
    "#### 4. When you have fixed this then you may notice a warning: “A value is trying to be set on a copy of a slice...”. Why do we get this warning? How can we get rid of it? Repeat the previous steps in a way that you do not get the warning"
   ]
  },
  {
   "cell_type": "markdown",
   "id": "b882e60b-a8e4-4c28-b8ed-2e67bdbb9176",
   "metadata": {},
   "source": [
    "The assertion error happens because the \"count\" is a keyword for a function. We can work around this by using brackets. The slice error happens by not explicitly creating a copy of the dataframe, which can be worked around with the .copy() function."
   ]
  },
  {
   "cell_type": "markdown",
   "id": "4ca43ced-4f3e-4ab8-a09a-32dad44a9622",
   "metadata": {},
   "source": [
    "#### 5. Now extract the cases per capita variable your created for Sweden and Norway. You should create two new workspace variables and assign the corresponding columns in those."
   ]
  },
  {
   "cell_type": "code",
   "execution_count": 8,
   "id": "7263fd11-6ce6-4340-9dfc-b240ea9a06a3",
   "metadata": {},
   "outputs": [],
   "source": [
    "perCapitaSweden = confirmed[confirmed.country == \"Sweden\"].copy()[\"confirmed cases per capita\"]\n",
    "perCapitaNorway = confirmed[confirmed.country == \"Norway\"].copy()[\"confirmed cases per capita\"]"
   ]
  },
  {
   "cell_type": "markdown",
   "id": "afc10e83-2041-4e2c-86cd-96966cec6faf",
   "metadata": {},
   "source": [
    "#### 6. What is the data structure of the newly created variables?"
   ]
  },
  {
   "cell_type": "code",
   "execution_count": 9,
   "id": "937b3ad5-e17f-4519-8806-eeddb6b17299",
   "metadata": {},
   "outputs": [
    {
     "name": "stdout",
     "output_type": "stream",
     "text": [
      "<class 'pandas.core.series.Series'>\n",
      "<class 'pandas.core.series.Series'>\n"
     ]
    }
   ],
   "source": [
    "print(type(perCapitaSweden))\n",
    "print(type(perCapitaNorway))"
   ]
  },
  {
   "cell_type": "markdown",
   "id": "f7537e6f-0320-4871-82a6-6702e02fe547",
   "metadata": {},
   "source": [
    "Series"
   ]
  },
  {
   "cell_type": "markdown",
   "id": "3d8cde9b-8467-45dc-a9c9-7e8b749cd3e2",
   "metadata": {},
   "source": [
    "#### 7. What is index of these series’? What do you think, is it a useful index? What might be a better index? Why?"
   ]
  },
  {
   "cell_type": "code",
   "execution_count": 10,
   "id": "cc718bb3-fb75-4aaa-a513-6b40036369cd",
   "metadata": {},
   "outputs": [
    {
     "name": "stdout",
     "output_type": "stream",
     "text": [
      "Int64Index([4896, 4898, 4900, 4902, 4904, 4906, 4908, 4910, 4912, 4914,\n",
      "            ...\n",
      "            6508, 6510, 6512, 6514, 6516, 6518, 6520, 6522, 6524, 6526],\n",
      "           dtype='int64', length=816)\n",
      "Int64Index([3264, 3266, 3268, 3270, 3272, 3274, 3276, 3278, 3280, 3282,\n",
      "            ...\n",
      "            4876, 4878, 4880, 4882, 4884, 4886, 4888, 4890, 4892, 4894],\n",
      "           dtype='int64', length=816)\n"
     ]
    }
   ],
   "source": [
    "print(perCapitaSweden.index)\n",
    "print(perCapitaNorway.index)"
   ]
  },
  {
   "cell_type": "markdown",
   "id": "f9cf3ad0-c311-450c-88b7-8bbd7a794fa6",
   "metadata": {},
   "source": [
    "#### 8. Replace the original index with one you think is better. Show that it worked (you may just want to print a few lines)."
   ]
  },
  {
   "cell_type": "markdown",
   "id": "e04d80c3-6cf0-4f35-9269-10f34a500793",
   "metadata": {},
   "source": [
    "The index of these series are just integers for the row number. A useful index is something that can help the user know what information each row is containing. A useful index for this can be the day number starting from Jan 22 or the date, since the data for each country starts from Jan 22."
   ]
  },
  {
   "cell_type": "code",
   "execution_count": 11,
   "id": "15ecf567-8aa8-4d1f-adee-e9b5ae3f8040",
   "metadata": {},
   "outputs": [
    {
     "name": "stdout",
     "output_type": "stream",
     "text": [
      "date\n",
      "2020-06-04    0.004076\n",
      "2020-11-17    0.018543\n",
      "2022-01-25    0.185299\n",
      "Name: confirmed cases per capita, dtype: float64\n",
      "date\n",
      "2021-02-03    0.011856\n",
      "2021-09-22    0.034285\n",
      "2022-02-25    0.226073\n",
      "Name: confirmed cases per capita, dtype: float64\n"
     ]
    }
   ],
   "source": [
    "perCapitaSweden.index = confirmed[confirmed.country == \"Sweden\"].date\n",
    "perCapitaNorway.index = confirmed[confirmed.country == \"Norway\"].date\n",
    "\n",
    "print(perCapitaSweden.sample(3))\n",
    "print(perCapitaNorway.sample(3))"
   ]
  },
  {
   "cell_type": "markdown",
   "id": "775edf5f-ac71-4566-8e75-3f2f86029877",
   "metadata": {},
   "source": [
    "#### 1. Now compare the number of confirmed cases per capita in Sweden and Norway at three different time points: 2020-05-01, 2020-12-01, 2021-07-01 and 2022-01-01."
   ]
  },
  {
   "cell_type": "code",
   "execution_count": 12,
   "id": "4784209a-b199-4d46-a5b9-b3598d3dccfc",
   "metadata": {},
   "outputs": [
    {
     "name": "stdout",
     "output_type": "stream",
     "text": [
      "date\n",
      "2020-05-01    0.002133\n",
      "2020-12-01    0.025127\n",
      "2021-07-01    0.105085\n",
      "2022-01-01    0.126692\n",
      "Name: confirmed cases per capita, dtype: float64\n",
      "date\n",
      "2020-05-01    0.001445\n",
      "2020-12-01    0.006796\n",
      "2021-07-01    0.024423\n",
      "2022-01-01    0.073620\n",
      "Name: confirmed cases per capita, dtype: float64\n"
     ]
    }
   ],
   "source": [
    "dates = [\"2020-05-01\", \"2020-12-01\", \"2021-07-01\", \"2022-01-01\"]\n",
    "print(perCapitaSweden.loc[dates])\n",
    "print(perCapitaNorway.loc[dates])"
   ]
  }
 ],
 "metadata": {
  "kernelspec": {
   "display_name": "Python 3 (ipykernel)",
   "language": "python",
   "name": "python3"
  },
  "language_info": {
   "codemirror_mode": {
    "name": "ipython",
    "version": 3
   },
   "file_extension": ".py",
   "mimetype": "text/x-python",
   "name": "python",
   "nbconvert_exporter": "python",
   "pygments_lexer": "ipython3",
   "version": "3.9.7"
  }
 },
 "nbformat": 4,
 "nbformat_minor": 5
}
