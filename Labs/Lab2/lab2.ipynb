{
 "cells": [
  {
   "cell_type": "code",
   "execution_count": 1,
   "id": "9357dbe4-3a10-499d-90e2-6c7dfdbb41d8",
   "metadata": {},
   "outputs": [],
   "source": [
    "import numpy as np\n",
    "import pandas as pd\n",
    "import matplotlib.pyplot as plt"
   ]
  },
  {
   "cell_type": "markdown",
   "id": "ee24832b-9413-41b0-82af-cb63e075f0cc",
   "metadata": {},
   "source": [
    "## 1. Load data"
   ]
  },
  {
   "cell_type": "markdown",
   "id": "ed8360c5-89e1-4622-97bb-076591612d6a",
   "metadata": {},
   "source": [
    "#### 1.1. Load the dataset king-house-prices.csv. This is a tab-separated file, but let’s first load it in the wrong way, using the default separator (comma). How many rows and columns do you have?"
   ]
  },
  {
   "cell_type": "code",
   "execution_count": 2,
   "id": "30e3f189-6885-4327-baf8-2c9a93e0b386",
   "metadata": {},
   "outputs": [
    {
     "name": "stdout",
     "output_type": "stream",
     "text": [
      "(21613, 1)\n"
     ]
    }
   ],
   "source": [
    "kingHouse = pd.read_csv('king-house-prices.csv.bz2')\n",
    "print(kingHouse.shape)"
   ]
  },
  {
   "cell_type": "markdown",
   "id": "2d39b9e3-6577-4167-9189-88f86aa2522b",
   "metadata": {},
   "source": [
    "21613 rows and 1 column"
   ]
  },
  {
   "cell_type": "markdown",
   "id": "ea9a5aa7-6237-4a2b-872a-b7b48b3c0dce",
   "metadata": {},
   "source": [
    "#### 1.2. Print a few random lines of data."
   ]
  },
  {
   "cell_type": "code",
   "execution_count": 3,
   "id": "478f2879-2c8d-4984-9f85-76073a947c7d",
   "metadata": {},
   "outputs": [
    {
     "name": "stdout",
     "output_type": "stream",
     "text": [
      "      id\\tdate\\tprice\\tbedrooms\\tbathrooms\\tsqft_living\\tsqft_lot\\tfloors\\twaterfront\\tview\\tcondition\\tgrade\\tsqft_above\\tsqft_basement\\tyr_built\\tyr_renovated\\tzipcode\\tlat\\tlong\\tsqft_living15\\tsqft_lot15\n",
      "7197   717000225\\t2014-10-28\\t235000\\t2\\t2\\t870\\t6450...                                                                                                                                                       \n",
      "15891  9474700020\\t2014-05-03\\t310000\\t3\\t1\\t1010\\t99...                                                                                                                                                       \n",
      "10418  6632900354\\t2014-09-10\\t242500\\t3\\t1\\t1020\\t58...                                                                                                                                                       \n"
     ]
    }
   ],
   "source": [
    "print(kingHouse.sample(3))"
   ]
  },
  {
   "cell_type": "markdown",
   "id": "10419e21-58a4-4e8e-a70d-9b14b57d3015",
   "metadata": {},
   "source": [
    "#### 1.3. Now load it correctly–use tab as separator. How many rows and columns do you have now?"
   ]
  },
  {
   "cell_type": "code",
   "execution_count": 4,
   "id": "3b6e7eff-c1bd-4d0b-9efb-5e247ecf1275",
   "metadata": {},
   "outputs": [
    {
     "name": "stdout",
     "output_type": "stream",
     "text": [
      "(21613, 21)\n"
     ]
    }
   ],
   "source": [
    "kingHouse = pd.read_csv('king-house-prices.csv.bz2', sep=\"\\t\")\n",
    "print(kingHouse.shape)"
   ]
  },
  {
   "cell_type": "markdown",
   "id": "72064c1a-d4bf-4685-befd-aead0d316c5a",
   "metadata": {},
   "source": [
    "21613 rows and 21 columns"
   ]
  },
  {
   "cell_type": "markdown",
   "id": "a48323db-6032-4761-8504-93f6de612a62",
   "metadata": {},
   "source": [
    "#### 1.4. Print a few lines of data."
   ]
  },
  {
   "cell_type": "code",
   "execution_count": 5,
   "id": "e0e95fe0-c22a-4245-9ea1-7737633740f1",
   "metadata": {},
   "outputs": [
    {
     "name": "stdout",
     "output_type": "stream",
     "text": [
      "               id        date     price  bedrooms  bathrooms  sqft_living  \\\n",
      "4792   3856901435  2014-10-27  720000.0         4        2.0         1760   \n",
      "2588   9215400075  2015-04-22  406000.0         3        1.0          960   \n",
      "15663  6123600285  2014-11-07  185000.0         3        1.5         1010   \n",
      "\n",
      "       sqft_lot  floors  waterfront  view  ...  grade  sqft_above  \\\n",
      "4792       4500     1.5       False     0  ...      7        1760   \n",
      "2588       5264     1.0       False     0  ...      7         960   \n",
      "15663      7755     1.0       False     0  ...      6        1010   \n",
      "\n",
      "       sqft_basement  yr_built  yr_renovated  zipcode      lat     long  \\\n",
      "4792               0      1906             0    98103  47.6711 -122.331   \n",
      "2588               0      1953             0    98115  47.6805 -122.301   \n",
      "15663              0      1953             0    98148  47.4238 -122.332   \n",
      "\n",
      "       sqft_living15  sqft_lot15  \n",
      "4792            1740        4220  \n",
      "2588            1140        5150  \n",
      "15663           1270        8350  \n",
      "\n",
      "[3 rows x 21 columns]\n"
     ]
    }
   ],
   "source": [
    "print(kingHouse.sample(3))"
   ]
  },
  {
   "cell_type": "markdown",
   "id": "cf481caf-5f70-4a16-b709-18231dd724db",
   "metadata": {},
   "source": [
    "#### 1.5. Comment on what do you see when you get the separator wrong or right."
   ]
  },
  {
   "cell_type": "markdown",
   "id": "e8c72b92-4928-45dd-b236-f6692c1043e9",
   "metadata": {},
   "source": [
    "When the separator is wrong, we only get 1 variable because all the variables are tied up together with /t, but when the separator is right, we get all 21 variables."
   ]
  },
  {
   "cell_type": "markdown",
   "id": "bece627d-0dad-4ae8-a599-3fb5b468b5bc",
   "metadata": {},
   "source": [
    "#### 1.6. Below, we only use variables date, price, condition, lat, long and waterfront. Make a subset that only contains these columns."
   ]
  },
  {
   "cell_type": "code",
   "execution_count": 6,
   "id": "04de34c7-08fc-45c1-b227-4e2389aec581",
   "metadata": {},
   "outputs": [],
   "source": [
    "vars = [\"date\", \"price\", \"condition\", \"lat\", \"long\", \"waterfront\"]\n",
    "kingHouseCondensed = kingHouse[vars].copy()"
   ]
  },
  {
   "cell_type": "markdown",
   "id": "e87547ef-185e-489c-b6dd-36da933f2183",
   "metadata": {},
   "source": [
    "## 2. Listing Price"
   ]
  },
  {
   "cell_type": "markdown",
   "id": "c8d5f80e-8d9c-4f79-bc81-a9007678c54d",
   "metadata": {},
   "source": [
    "#### 2.1. Compute the average listing price"
   ]
  },
  {
   "cell_type": "code",
   "execution_count": 7,
   "id": "a318ee6e-2aa2-4df3-8573-08adb48f4b41",
   "metadata": {},
   "outputs": [
    {
     "name": "stdout",
     "output_type": "stream",
     "text": [
      "540088.1417665294\n"
     ]
    }
   ],
   "source": [
    "avgListPrice = kingHouseCondensed.price.mean()\n",
    "print(avgListPrice)"
   ]
  },
  {
   "cell_type": "markdown",
   "id": "f38b2bc6-6158-4e47-a93b-e09ece23b550",
   "metadata": {},
   "source": [
    "The average listing price is about \\\\$540088."
   ]
  },
  {
   "cell_type": "markdown",
   "id": "9b20e26a-5ba9-4701-bad3-75684be65795",
   "metadata": {},
   "source": [
    "#### 2.2. Now compute the average price in each of the “condition” category. Comment what you see."
   ]
  },
  {
   "cell_type": "code",
   "execution_count": 8,
   "id": "acaff732-2c36-43a0-8ede-ed79e39e9132",
   "metadata": {},
   "outputs": [
    {
     "data": {
      "text/plain": [
       "condition\n",
       "1    334431.666667\n",
       "2    327287.145349\n",
       "3    542012.578148\n",
       "4    521200.390033\n",
       "5    612418.089359\n",
       "Name: price, dtype: float64"
      ]
     },
     "execution_count": 8,
     "metadata": {},
     "output_type": "execute_result"
    }
   ],
   "source": [
    "kingHouseCondensed.groupby(\"condition\").price.mean()"
   ]
  },
  {
   "cell_type": "markdown",
   "id": "ac4efa74-2d28-4b07-9b3e-5ef63ab3dcdb",
   "metadata": {},
   "source": [
    "The lowest average price is when condition is 2 and highest when condition is 5. Also houses with condition 1 list at a higher price than 2, same with condition 3 and 4."
   ]
  },
  {
   "cell_type": "markdown",
   "id": "495e2c7b-f457-4cf5-b36d-15a217756cae",
   "metadata": {},
   "source": [
    "#### 2.3. Print three most expensive and three cheapest listings"
   ]
  },
  {
   "cell_type": "code",
   "execution_count": 9,
   "id": "8d041f23-de04-48d1-82c3-b9ea440895aa",
   "metadata": {},
   "outputs": [
    {
     "name": "stdout",
     "output_type": "stream",
     "text": [
      "            date      price  condition      lat     long  waterfront\n",
      "7252  2014-10-13  7700000.0          4  47.6298 -122.323       False\n",
      "3914  2014-06-11  7062500.0          3  47.6500 -122.214        True\n",
      "9254  2014-09-19  6885000.0          3  47.6305 -122.240       False\n",
      "             date    price  condition      lat     long  waterfront\n",
      "1149   2015-02-17  75000.0          3  47.2638 -121.906       False\n",
      "15293  2014-05-06  78000.0          1  47.4739 -122.280       False\n",
      "465    2014-05-23  80000.0          2  47.6499 -121.909       False\n"
     ]
    }
   ],
   "source": [
    "topThree = kingHouseCondensed.nlargest(3, [\"price\"])\n",
    "bottomThree = kingHouseCondensed.nsmallest(3, [\"price\"])\n",
    "print(topThree)\n",
    "print(bottomThree)"
   ]
  },
  {
   "cell_type": "markdown",
   "id": "de069590-b45a-4b66-ad04-b221c0e6fc7c",
   "metadata": {},
   "source": [
    "The three most expensive listings are \\\\$7,700,000, \\\\$7,062,500, and \\\\$6,885,000. The three cheapest listings are \\\\$75,000, \\\\$78,000, and \\\\$80,000."
   ]
  },
  {
   "cell_type": "markdown",
   "id": "9a7f72b1-ecb4-4fb8-9df7-6c2f9103d20a",
   "metadata": {},
   "source": [
    "#### 2.4. Now create a single data frame that contains both 3 cheapest and 3 most expensive listings. The data frame should contain 6 rows. Sort the result by price."
   ]
  },
  {
   "cell_type": "code",
   "execution_count": 10,
   "id": "24b2867e-462a-4e09-9496-aad3ba891c56",
   "metadata": {},
   "outputs": [
    {
     "name": "stdout",
     "output_type": "stream",
     "text": [
      "             date      price  condition      lat     long  waterfront\n",
      "1149   2015-02-17    75000.0          3  47.2638 -121.906       False\n",
      "15293  2014-05-06    78000.0          1  47.4739 -122.280       False\n",
      "465    2014-05-23    80000.0          2  47.6499 -121.909       False\n",
      "9254   2014-09-19  6885000.0          3  47.6305 -122.240       False\n",
      "3914   2014-06-11  7062500.0          3  47.6500 -122.214        True\n",
      "7252   2014-10-13  7700000.0          4  47.6298 -122.323       False\n"
     ]
    }
   ],
   "source": [
    "topBotThree = pd.concat([topThree, bottomThree]).sort_values(by=[\"price\"])\n",
    "print(topBotThree)"
   ]
  },
  {
   "cell_type": "markdown",
   "id": "c9a047e8-5172-4809-8c87-4ed871be9c06",
   "metadata": {},
   "source": [
    "#### 2.5. Now use .groupby() and .idxmax() methods to extract the cheapest and the most expensive listing for each “condition” category, and .loc[] method to extract based on index."
   ]
  },
  {
   "cell_type": "code",
   "execution_count": 11,
   "id": "fc271203-9232-4e59-90bd-c91cee40f837",
   "metadata": {},
   "outputs": [
    {
     "name": "stdout",
     "output_type": "stream",
     "text": [
      "             date      price  condition      lat     long  waterfront\n",
      "15293  2014-05-06    78000.0          1  47.4739 -122.280       False\n",
      "465    2014-05-23    80000.0          2  47.6499 -121.909       False\n",
      "3914   2014-06-11  7062500.0          3  47.6500 -122.214        True\n",
      "7252   2014-10-13  7700000.0          4  47.6298 -122.323       False\n"
     ]
    }
   ],
   "source": [
    "indexMax = topBotThree.loc[topBotThree.groupby(\"condition\")[\"price\"].idxmax()]\n",
    "print(indexMax)"
   ]
  },
  {
   "cell_type": "markdown",
   "id": "8c98f6c7-7584-4dd7-ba58-32ca461ddeff",
   "metadata": {},
   "source": [
    "The most expensive in condition category 1, 2, 3, 4 are \\\\$78,000, \\\\$80,000, \\\\$7,062,500, \\\\$47,700,000 respectively."
   ]
  },
  {
   "cell_type": "markdown",
   "id": "6ca7b539-2f36-4827-912f-2304cf1be9f7",
   "metadata": {},
   "source": [
    "## 3. Proportions"
   ]
  },
  {
   "cell_type": "markdown",
   "id": "105556bb-435c-4705-bd50-55c637628d08",
   "metadata": {},
   "source": [
    "#### 3.1. Which percentage of listing are cheaper than \\\\$200,000? Which percentage of listings are over $1M? Use .mean(), not adding and dividing!"
   ]
  },
  {
   "cell_type": "code",
   "execution_count": 12,
   "id": "341705a3-0714-4170-9f59-dbf3e76b60aa",
   "metadata": {},
   "outputs": [
    {
     "name": "stdout",
     "output_type": "stream",
     "text": [
      "3.6367001341785032\n",
      "6.778327858233471\n"
     ]
    }
   ],
   "source": [
    "percentCheaper = (kingHouseCondensed.price < 200000).mean() * 100\n",
    "print(percentCheaper)\n",
    "percentExpensive = (kingHouseCondensed.price > 1000000).mean() * 100\n",
    "print(percentExpensive)"
   ]
  },
  {
   "cell_type": "markdown",
   "id": "9362a950-78dc-47a4-b427-07b8b04b4517",
   "metadata": {},
   "source": [
    "About 3.64% of the listings are cheaper than \\\\$200,000, and about 6.78% of the listings are more expensive than $1M."
   ]
  },
  {
   "cell_type": "markdown",
   "id": "1fd155ea-1fea-4a42-be46-d1dc76185009",
   "metadata": {},
   "source": [
    "#### 3.2. What percentage of listings cost less than $1M and are overlooking waterfront?"
   ]
  },
  {
   "cell_type": "code",
   "execution_count": 13,
   "id": "647230b8-4a49-44ee-9b03-24f47cddb2a1",
   "metadata": {},
   "outputs": [
    {
     "name": "stdout",
     "output_type": "stream",
     "text": [
      "0.26835700735668344\n"
     ]
    }
   ],
   "source": [
    "percentCheaperWaterfront = ((kingHouseCondensed.waterfront == True) & (kingHouseCondensed.price < 1000000)).mean() * 100\n",
    "print(percentCheaperWaterfront)"
   ]
  },
  {
   "cell_type": "markdown",
   "id": "9e98af7d-f534-484c-880f-97db178bd4fe",
   "metadata": {},
   "source": [
    "About 0.27% of the listings cost less than \\\\$1M and are overlooking waterfront."
   ]
  },
  {
   "cell_type": "markdown",
   "id": "b904b7bf-47c4-42fe-b305-c99653ee4484",
   "metadata": {},
   "source": [
    "## 4. Plotting"
   ]
  },
  {
   "cell_type": "markdown",
   "id": "42221c78-b085-4b86-b59e-bf1bca272b8f",
   "metadata": {},
   "source": [
    "#### 4.1. Make a plot of longitude/latitude of the listings. Use different colors for waterfront/non-waterfront properties. Label the plot appropriately."
   ]
  },
  {
   "cell_type": "code",
   "execution_count": 37,
   "id": "b693e6ae-1af5-46ee-ac51-30eefc5721bf",
   "metadata": {},
   "outputs": [
    {
     "data": {
      "image/png": "[encoded data removed]",
      "text/plain": [
       "<Figure size 432x288 with 1 Axes>"
      ]
     },
     "metadata": {
      "needs_background": "light"
     },
     "output_type": "display_data"
    }
   ],
   "source": [
    "x = kingHouseCondensed.long\n",
    "y = kingHouseCondensed.lat\n",
    "z = kingHouseCondensed.waterfront\n",
    "colors = {True:'blue', False:'green'}\n",
    "latLongPlot = plt.scatter(x, y, s=0.75, c=z.map(colors))\n",
    "latLongPlot = plt.xlabel(\"Longitude\")\n",
    "latLongPlot = plt.ylabel(\"Latitude\")\n",
    "latLongPlot = plt.title(\"Latitude vs Logitude of King County Houses\")\n",
    "latLongPlot = plt.show()\n"
   ]
  },
  {
   "cell_type": "markdown",
   "id": "962c753e-bae5-4735-a855-0159668e7424",
   "metadata": {},
   "source": [
    "I see the shape of Seattle, and waterfront properties are near lakes and seashore."
   ]
  }
 ],
 "metadata": {
  "kernelspec": {
   "display_name": "Python 3 (ipykernel)",
   "language": "python",
   "name": "python3"
  },
  "language_info": {
   "codemirror_mode": {
    "name": "ipython",
    "version": 3
   },
   "file_extension": ".py",
   "mimetype": "text/x-python",
   "name": "python",
   "nbconvert_exporter": "python",
   "pygments_lexer": "ipython3",
   "version": "3.9.7"
  }
 },
 "nbformat": 4,
 "nbformat_minor": 5
}
