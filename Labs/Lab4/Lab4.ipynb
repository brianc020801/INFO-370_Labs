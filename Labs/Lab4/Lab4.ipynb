{
 "cells": [
  {
   "cell_type": "code",
   "execution_count": 1,
   "id": "ebcdcd3d-54ba-4b5a-800d-a34c52a683da",
   "metadata": {},
   "outputs": [],
   "source": [
    "import numpy as np\n",
    "import pandas as pd"
   ]
  },
  {
   "cell_type": "markdown",
   "id": "71035207-d81b-439f-82c3-58987bb4981d",
   "metadata": {},
   "source": [
    "## 1. Test Data Under H0"
   ]
  },
  {
   "cell_type": "markdown",
   "id": "c05a90a4-c2fd-420a-a06c-5e761c70bd28",
   "metadata": {},
   "source": [
    "#### 1.1. What is your H0–the claim about the world you want to test? Explain!"
   ]
  },
  {
   "cell_type": "markdown",
   "id": "6ac1e882-c9e5-450c-99f0-6e25739a522a",
   "metadata": {},
   "source": [
    "The null hypothesis I want to test is more than 50% of the people prefer red. Since the expected value of red voters is less than 0.5, there is 95% confidence that we can reject the null hypothesis."
   ]
  },
  {
   "cell_type": "markdown",
   "id": "0de1f289-90e3-4774-bb8f-7d14a6e81c67",
   "metadata": {},
   "source": [
    "#### 1.2. Choose the number of polls (repetitions R) you conduct. 1000 is a good choice."
   ]
  },
  {
   "cell_type": "code",
   "execution_count": 2,
   "id": "788f6e9c-70c8-48b4-ad72-fb94f6e3aa66",
   "metadata": {},
   "outputs": [],
   "source": [
    "R = 1000;\n",
    "p = 0.5;\n",
    "N = 1000;"
   ]
  },
  {
   "cell_type": "markdown",
   "id": "fa099b66-1102-48b4-8c6b-6e0f5bba268b",
   "metadata": {},
   "source": [
    "#### 1.3. Now conduct R polls of N respondents. Each respondent should be represented as 0 or 1, with 1 occuring with the probability 0.5 (your H0)."
   ]
  },
  {
   "cell_type": "code",
   "execution_count": 3,
   "id": "de2a0bf7-cd10-4187-b972-214d4fc368a3",
   "metadata": {},
   "outputs": [],
   "source": [
    "np.random.seed(1)\n",
    "data_mean = []\n",
    "for i in range (R):\n",
    "    poll = np.random.binomial(1, p, size=N)\n",
    "    data_mean.append(np.mean(poll))"
   ]
  },
  {
   "cell_type": "markdown",
   "id": "d5ea230d-01bc-41b8-8047-728179b97b5a",
   "metadata": {},
   "source": [
    "#### 1.4. Find the 95% CI of your means by computing 2.5-th and 97.5-th percentiles."
   ]
  },
  {
   "cell_type": "code",
   "execution_count": 4,
   "id": "96a89f86-fb00-4781-bef0-25f53303a085",
   "metadata": {},
   "outputs": [
    {
     "name": "stdout",
     "output_type": "stream",
     "text": [
      "2.5th Percentile: 0.469\n",
      "97.5th Percentile: 0.533\n"
     ]
    }
   ],
   "source": [
    "p_2_5, p_97_5 = np.percentile(data_mean, (2.5, 97.5))\n",
    "print(\"2.5th Percentile: \" + str(p_2_5))\n",
    "print(\"97.5th Percentile: \" + str(p_97_5))"
   ]
  },
  {
   "cell_type": "markdown",
   "id": "89b6cbc9-eac1-4289-83ac-514e02ff4362",
   "metadata": {},
   "source": [
    "#### 1.5. Does your actual poll result (0.53) fall into the CI?"
   ]
  },
  {
   "cell_type": "markdown",
   "id": "398900e3-0e54-4169-b900-8376724ba9ec",
   "metadata": {},
   "source": [
    "Yes, 0.53 falls into the confidence interval,"
   ]
  },
  {
   "cell_type": "markdown",
   "id": "91d42e4a-9f00-4ef1-9caa-8b9e0d693ef6",
   "metadata": {},
   "source": [
    "#### 1.6.Based on the CI you computed answer the question: can you confidently (at 5% significance level) say that Greens are leading in the polls?"
   ]
  },
  {
   "cell_type": "markdown",
   "id": "672dabb6-0ee5-4873-9647-03f088237d97",
   "metadata": {},
   "source": [
    "Yes, hence we can reject the null hypothesis and say that I am 95% confident that Greens are leading the poll."
   ]
  },
  {
   "cell_type": "markdown",
   "id": "f35df737-966e-4dc9-8574-767115873dd1",
   "metadata": {},
   "source": [
    "## 2. Test H0 under data"
   ]
  },
  {
   "cell_type": "markdown",
   "id": "4e5d91de-601c-476d-aa53-8b2a9d25cd21",
   "metadata": {},
   "source": [
    "#### 2.1. Now conduct R polls of N respondents. Each respondent should be represented as 0 or 1, with 1 occuring with the probability 0.53 (this is the probability in data). For each poll, compute the average value (the proportion of respondents who prefer G). Now you should have R averages."
   ]
  },
  {
   "cell_type": "code",
   "execution_count": 5,
   "id": "6c7baff7-1bd3-4248-aaf6-a55c48e1d704",
   "metadata": {},
   "outputs": [],
   "source": [
    "p = 0.53\n",
    "np.random.seed(1)\n",
    "data_mean = []\n",
    "for i in range (R):\n",
    "    poll = np.random.binomial(1, p, size=N)\n",
    "    data_mean.append(np.mean(poll))"
   ]
  },
  {
   "cell_type": "markdown",
   "id": "7f0fe106-abf4-4fac-8be6-51648bac7f23",
   "metadata": {},
   "source": [
    "#### 2.2. Find the 95% CI of your means by computing 2.5-th and 97.5-th percentiles."
   ]
  },
  {
   "cell_type": "code",
   "execution_count": 6,
   "id": "38288123-906d-484d-9e31-02f5809b8146",
   "metadata": {},
   "outputs": [
    {
     "name": "stdout",
     "output_type": "stream",
     "text": [
      "2.5th Percentile: 0.497\n",
      "97.5th Percentile: 0.561\n"
     ]
    }
   ],
   "source": [
    "p_2_5, p_97_5 = np.percentile(data_mean, (2.5, 97.5))\n",
    "print(\"2.5th Percentile: \" + str(p_2_5))\n",
    "print(\"97.5th Percentile: \" + str(p_97_5))"
   ]
  },
  {
   "cell_type": "markdown",
   "id": "16a15616-12fb-4422-a0aa-0f8e20884600",
   "metadata": {},
   "source": [
    "#### 2.3. Is 0.5—your H0 inside of the CI?"
   ]
  },
  {
   "cell_type": "markdown",
   "id": "4dc0cf20-88c7-46be-88b2-81ee6386b97d",
   "metadata": {},
   "source": [
    "Yes, 0.5 is within the confidence interval"
   ]
  },
  {
   "cell_type": "markdown",
   "id": "ee0ee09f-756b-46de-a44b-946d096296aa",
   "metadata": {},
   "source": [
    "#### 2.4. Based on the CI you computed answer the question: can you confidently (at 5% significance level) say that Greens are leading in the polls?"
   ]
  },
  {
   "cell_type": "markdown",
   "id": "cf652d8c-936c-4d5e-931c-13ea2a4d6ec0",
   "metadata": {},
   "source": [
    "Yes I can confidently say at 5% significance level that Greens are leading the polls."
   ]
  }
 ],
 "metadata": {
  "kernelspec": {
   "display_name": "Python 3 (ipykernel)",
   "language": "python",
   "name": "python3"
  },
  "language_info": {
   "codemirror_mode": {
    "name": "ipython",
    "version": 3
   },
   "file_extension": ".py",
   "mimetype": "text/x-python",
   "name": "python",
   "nbconvert_exporter": "python",
   "pygments_lexer": "ipython3",
   "version": "3.9.7"
  }
 },
 "nbformat": 4,
 "nbformat_minor": 5
}
